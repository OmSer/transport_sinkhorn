{
 "cells": [
  {
   "cell_type": "code",
   "execution_count": null,
   "metadata": {},
   "outputs": [],
   "source": [
    "import numpy as np"
   ]
  },
  {
   "cell_type": "code",
   "execution_count": null,
   "metadata": {},
   "outputs": [],
   "source": [
    "def grad_phi(l, w, B):\n",
    "    \n",
    "    size = len(w)\n",
    "    \n",
    "#     print(np.dot(B, np.ones(size)).A1)\n",
    "    grad_phi_1 = l - np.dot(B, np.ones(size)).A1 / np.dot(np.dot(np.ones(size).T, B), np.ones(size))\n",
    "    grad_phi_2 = w - np.dot(B.T, np.ones(size)).A1 / np.dot(np.dot(np.ones(size).T, B), np.ones(size))\n",
    "    \n",
    "    return grad_phi_1, grad_phi_2, np.concatenate((grad_phi_1.A1, grad_phi_2.A1))"
   ]
  },
  {
   "cell_type": "code",
   "execution_count": null,
   "metadata": {},
   "outputs": [],
   "source": [
    "np.dot(np.array([1,2,3]), np.array([1, 2, 3]))"
   ]
  },
  {
   "cell_type": "code",
   "execution_count": null,
   "metadata": {},
   "outputs": [],
   "source": [
    "def phi(x, l, w, B):\n",
    "    \n",
    "    size = len(w)\n",
    "    return np.dot(x[:size], l) + np.dot(x[size:], w) + np.log(np.dot(np.dot(np.ones(size).T, B), np.ones(size)))"
   ]
  },
  {
   "cell_type": "code",
   "execution_count": null,
   "metadata": {},
   "outputs": [],
   "source": [
    "def f(correspondance_matrix, cost_matrix, gamma):\n",
    "    \n",
    "    return np.sum(correspondance_matrix * np.log(correspondance_matrix)) + gamma * np.sum(corresponance_matrix * cost_matrix)"
   ]
  },
  {
   "cell_type": "code",
   "execution_count": null,
   "metadata": {},
   "outputs": [],
   "source": [
    "import pandas as pd"
   ]
  },
  {
   "cell_type": "code",
   "execution_count": null,
   "metadata": {},
   "outputs": [],
   "source": [
    "df = pd.read_csv('moscow.csv')"
   ]
  },
  {
   "cell_type": "code",
   "execution_count": null,
   "metadata": {},
   "outputs": [],
   "source": [
    "df.head()"
   ]
  },
  {
   "cell_type": "code",
   "execution_count": null,
   "metadata": {},
   "outputs": [],
   "source": [
    "size = df.area_i.max()"
   ]
  },
  {
   "cell_type": "code",
   "execution_count": null,
   "metadata": {},
   "outputs": [],
   "source": [
    "df.area_i = df.area_i.astype(int)\n",
    "df.area_j = df.area_j.astype(int)"
   ]
  },
  {
   "cell_type": "code",
   "execution_count": null,
   "metadata": {},
   "outputs": [],
   "source": [
    "times_matrix, distance_matrix, corresponance_matrix = np.zeros((size, size)), np.zeros((size, size)), np.zeros((size, size))"
   ]
  },
  {
   "cell_type": "code",
   "execution_count": null,
   "metadata": {},
   "outputs": [],
   "source": [
    "for i in df.index:\n",
    "    \n",
    "    area_i, area_j, live_work_ij, time_ij, dist_ij = df.loc[i]\n",
    "    area_i, area_j = int(area_i) - 1, int(area_j) - 1\n",
    "    \n",
    "    times_matrix[area_i, area_j] = time_ij\n",
    "    distance_matrix[area_i, area_j] = dist_ij\n",
    "    corresponance_matrix[area_i, area_j] = live_work_ij"
   ]
  },
  {
   "cell_type": "code",
   "execution_count": null,
   "metadata": {},
   "outputs": [],
   "source": [
    "L = 1\n",
    "L_new = None\n",
    "k = 0\n",
    "a = 0\n",
    "# size = 10\n",
    "beta = 1\n",
    "\n",
    "# T = np.matrix([np.random.uniform(size=size) for _ in range(size)])\n",
    "# T /= T.sum(axis=1)\n",
    "\n",
    "T = 2 * np.matrix(times_matrix ** 4)\n",
    "T /= T.sum(axis=1)\n",
    "\n",
    "# l, w = np.random.uniform(0, 1, size), np.random.uniform(0, 1, size)  \n",
    "l, w = df.groupby('area_i')['live_i_work_j'].sum(), df.groupby('area_j')['live_i_work_j'].sum()\n",
    "l /= l.sum()\n",
    "w /= w.sum()\n",
    "\n",
    "lambdas_l, lambdas_w = np.zeros(size), np.zeros(size)\n",
    "x, y, v = np.zeros(2 * size), np.zeros(2 * size), np.zeros(2 * size)\n",
    "\n",
    "d_hat = 1"
   ]
  },
  {
   "cell_type": "code",
   "execution_count": null,
   "metadata": {},
   "outputs": [],
   "source": [
    "eps_f = 0.001"
   ]
  },
  {
   "cell_type": "code",
   "execution_count": null,
   "metadata": {
    "scrolled": true
   },
   "outputs": [],
   "source": [
    "while True:\n",
    "    if L_new is not None:\n",
    "        L = L_new\n",
    "        \n",
    "    L_new = L / 2\n",
    "    \n",
    "    while True:\n",
    "    \n",
    "        a_new = 1 / (2 * L) + np.sqrt(1 / (4 * L ** 2) + a ** 2 * L / L_new)\n",
    "        tau = 1 / (a_new * L_new)\n",
    "        \n",
    "        y = tau * v + (1 - tau) * x\n",
    "        \n",
    "        B = np.exp(-beta * T - lambdas_l - lambdas_w)\n",
    "        grad_phi_1, grad_phi_2, grad_phi_value = grad_phi(y[:size], y[size:], B)\n",
    "\n",
    "        lambdas_l, lambdas_w = x[:size].copy(), x[size:].copy()\n",
    "        \n",
    "        if np.linalg.norm(grad_phi_1) >= np.linalg.norm(grad_phi_2):\n",
    "            lambdas_l_new = lambdas_l + np.log(l) - np.log(np.exp((-beta * T.T - lambdas_l).T - lambdas_w).sum(axis=1).A1)\n",
    "            lambdas_w_new = lambdas_w.copy() \n",
    "        else:\n",
    "            lambdas_l_new = lambdas_l.copy()\n",
    "            lambdas_w_new = lambdas_w + np.log(w) - np.log(np.exp((-beta * T.T - lambdas_l).T - lambdas_w).sum(axis=0).A1)\n",
    "        \n",
    "        x_new = np.concatenate((lambdas_l_new, lambdas_w_new))\n",
    "        v_new = v - a_new * grad_phi_value\n",
    "        \n",
    "        if phi(x_new, l, w, B) <= phi(y, l, w, B) - np.linalg.norm(grad_phi_value) ** 2 / (2 * L_new):\n",
    "            \n",
    "            d = B / np.dot(np.dot(np.ones(size).T, B), np.ones(size))\n",
    "            \n",
    "            d_hat_new = (a_new * d + L * a ** 2 * d_hat) / (L_new * a_new ** 2)\n",
    "            break\n",
    "        \n",
    "        L_new *= 2\n",
    "    \n",
    "    print(abs(f(d_hat_new, T, beta) + phi(x_new, l, w, B)))\n",
    "    print(np.linalg.norm(np.dot(d_hat_new.T, np.ones(size).T).A1 - l), np.linalg.norm(np.dot(d_hat_new, np.ones(size).T).A1 - w))\n",
    "    \n",
    "    if abs(f(d_hat_new, T, beta) + phi(x_new, l, w, B)) < eps_f:\n",
    "        break\n",
    "    \n",
    "    d_hat = d_hat_new.copy()\n"
   ]
  },
  {
   "cell_type": "code",
   "execution_count": null,
   "metadata": {
    "scrolled": true
   },
   "outputs": [],
   "source": [
    "np.dot(d_hat_new.T, np.ones(size)).A1 - l"
   ]
  },
  {
   "cell_type": "code",
   "execution_count": null,
   "metadata": {},
   "outputs": [],
   "source": [
    "number_of_people = df.groupby('area_j')['live_i_work_j'].sum().sum()"
   ]
  },
  {
   "cell_type": "code",
   "execution_count": null,
   "metadata": {},
   "outputs": [],
   "source": [
    "d_restored = d_hat_new * number_of_people"
   ]
  },
  {
   "cell_type": "code",
   "execution_count": null,
   "metadata": {},
   "outputs": [],
   "source": [
    "np.sum((d_restored - corresponance_matrix) ** 2) / size ** 2"
   ]
  },
  {
   "cell_type": "code",
   "execution_count": null,
   "metadata": {},
   "outputs": [],
   "source": [
    "np.sum((d_restored - corresponance_matrix) ** 2) / size ** 2"
   ]
  }
 ],
 "metadata": {
  "kernelspec": {
   "display_name": "Python 3",
   "language": "python",
   "name": "python3"
  },
  "language_info": {
   "codemirror_mode": {
    "name": "ipython",
    "version": 3
   },
   "file_extension": ".py",
   "mimetype": "text/x-python",
   "name": "python",
   "nbconvert_exporter": "python",
   "pygments_lexer": "ipython3",
   "version": "3.7.3"
  }
 },
 "nbformat": 4,
 "nbformat_minor": 2
}
