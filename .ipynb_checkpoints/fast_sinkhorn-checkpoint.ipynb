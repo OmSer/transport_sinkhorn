{
 "cells": [
  {
   "cell_type": "code",
   "execution_count": 12,
   "metadata": {},
   "outputs": [],
   "source": [
    "import numpy as np"
   ]
  },
  {
   "cell_type": "code",
   "execution_count": 13,
   "metadata": {},
   "outputs": [],
   "source": [
    "def grad_phi(l, w, B):\n",
    "    \n",
    "    size = len(w)\n",
    "    \n",
    "#     print(np.dot(B, np.ones(size)).A1)\n",
    "    grad_phi_1 = - l + np.dot(B, np.ones(size)).A1 / np.dot(np.dot(np.ones(size).T, B), np.ones(size))\n",
    "    grad_phi_2 = - w + np.dot(B.T, np.ones(size)).A1 / np.dot(np.dot(np.ones(size).T, B), np.ones(size))\n",
    "    \n",
    "    return grad_phi_1, grad_phi_2, np.concatenate((grad_phi_1.A1, grad_phi_2.A1))"
   ]
  },
  {
   "cell_type": "code",
   "execution_count": 14,
   "metadata": {},
   "outputs": [],
   "source": [
    "def phi(x, l, w, B):\n",
    "    print(len(x), len(w))\n",
    "    size = len(w)\n",
    "    \n",
    "    return - np.dot(x[:size], l) - np.dot(x[size:], w) + np.log(np.dot(np.dot(np.ones(size).T, B), np.ones(size)).A1[0])"
   ]
  },
  {
   "cell_type": "code",
   "execution_count": 15,
   "metadata": {
    "scrolled": true
   },
   "outputs": [],
   "source": [
    "# x = np.zeros(2 * size)\n",
    "# print(x)\n",
    "# B = np.exp(-beta * T - x[:size] - x[size:])\n",
    "# print(B)\n",
    "# phi(x, l, w, B)"
   ]
  },
  {
   "cell_type": "code",
   "execution_count": 16,
   "metadata": {
    "scrolled": false
   },
   "outputs": [],
   "source": [
    "# x = 150 *np.ones(2 * size)\n",
    "# print(x)\n",
    "# B = np.exp(-beta * T - x[:size] - x[size:])\n",
    "# # print(B)\n",
    "# phi(x, l, w, B)"
   ]
  },
  {
   "cell_type": "code",
   "execution_count": 17,
   "metadata": {},
   "outputs": [],
   "source": [
    "# x = np.array(range(2 * size))\n",
    "# print(x)\n",
    "# B = np.exp(-beta * T - x[:size] - x[size:])\n",
    "# # print(B)\n",
    "# phi(x, l, w, B)"
   ]
  },
  {
   "cell_type": "code",
   "execution_count": null,
   "metadata": {},
   "outputs": [],
   "source": []
  },
  {
   "cell_type": "code",
   "execution_count": null,
   "metadata": {},
   "outputs": [],
   "source": []
  },
  {
   "cell_type": "code",
   "execution_count": 18,
   "metadata": {},
   "outputs": [
    {
     "data": {
      "text/plain": [
       "matrix([[6., 8.]])"
      ]
     },
     "execution_count": 18,
     "metadata": {},
     "output_type": "execute_result"
    }
   ],
   "source": [
    "np.dot(np.ones(2), np.matrix([[2,3], [4,5]]))"
   ]
  },
  {
   "cell_type": "code",
   "execution_count": 19,
   "metadata": {},
   "outputs": [],
   "source": [
    "# np.dot(np.ones(size).T, B)"
   ]
  },
  {
   "cell_type": "code",
   "execution_count": 20,
   "metadata": {},
   "outputs": [],
   "source": [
    "def f(correspondance_matrix, cost_matrix, gamma):\n",
    "    \n",
    "    return np.sum(correspondance_matrix * np.log(correspondance_matrix)) + gamma * np.sum(corresponance_matrix * cost_matrix)"
   ]
  },
  {
   "cell_type": "code",
   "execution_count": 21,
   "metadata": {},
   "outputs": [],
   "source": [
    "import pandas as pd"
   ]
  },
  {
   "cell_type": "code",
   "execution_count": 22,
   "metadata": {},
   "outputs": [],
   "source": [
    "df = pd.read_csv('moscow.csv')"
   ]
  },
  {
   "cell_type": "code",
   "execution_count": 23,
   "metadata": {
    "scrolled": true
   },
   "outputs": [
    {
     "data": {
      "text/html": [
       "<div>\n",
       "<style scoped>\n",
       "    .dataframe tbody tr th:only-of-type {\n",
       "        vertical-align: middle;\n",
       "    }\n",
       "\n",
       "    .dataframe tbody tr th {\n",
       "        vertical-align: top;\n",
       "    }\n",
       "\n",
       "    .dataframe thead th {\n",
       "        text-align: right;\n",
       "    }\n",
       "</style>\n",
       "<table border=\"1\" class=\"dataframe\">\n",
       "  <thead>\n",
       "    <tr style=\"text-align: right;\">\n",
       "      <th></th>\n",
       "      <th>area_i</th>\n",
       "      <th>area_j</th>\n",
       "      <th>live_i_work_j</th>\n",
       "      <th>time_ij</th>\n",
       "      <th>dist_ij</th>\n",
       "    </tr>\n",
       "  </thead>\n",
       "  <tbody>\n",
       "    <tr>\n",
       "      <th>0</th>\n",
       "      <td>1</td>\n",
       "      <td>1</td>\n",
       "      <td>40</td>\n",
       "      <td>26</td>\n",
       "      <td>2.2</td>\n",
       "    </tr>\n",
       "    <tr>\n",
       "      <th>1</th>\n",
       "      <td>1</td>\n",
       "      <td>2</td>\n",
       "      <td>4</td>\n",
       "      <td>49</td>\n",
       "      <td>8.1</td>\n",
       "    </tr>\n",
       "    <tr>\n",
       "      <th>2</th>\n",
       "      <td>1</td>\n",
       "      <td>3</td>\n",
       "      <td>3</td>\n",
       "      <td>35</td>\n",
       "      <td>6.8</td>\n",
       "    </tr>\n",
       "    <tr>\n",
       "      <th>3</th>\n",
       "      <td>1</td>\n",
       "      <td>4</td>\n",
       "      <td>2</td>\n",
       "      <td>75</td>\n",
       "      <td>9.3</td>\n",
       "    </tr>\n",
       "    <tr>\n",
       "      <th>4</th>\n",
       "      <td>1</td>\n",
       "      <td>5</td>\n",
       "      <td>2</td>\n",
       "      <td>30</td>\n",
       "      <td>8.0</td>\n",
       "    </tr>\n",
       "  </tbody>\n",
       "</table>\n",
       "</div>"
      ],
      "text/plain": [
       "   area_i  area_j  live_i_work_j  time_ij  dist_ij\n",
       "0       1       1             40       26      2.2\n",
       "1       1       2              4       49      8.1\n",
       "2       1       3              3       35      6.8\n",
       "3       1       4              2       75      9.3\n",
       "4       1       5              2       30      8.0"
      ]
     },
     "execution_count": 23,
     "metadata": {},
     "output_type": "execute_result"
    }
   ],
   "source": [
    "df.head()"
   ]
  },
  {
   "cell_type": "code",
   "execution_count": 24,
   "metadata": {},
   "outputs": [],
   "source": [
    "size = df.area_i.max()"
   ]
  },
  {
   "cell_type": "code",
   "execution_count": 25,
   "metadata": {},
   "outputs": [],
   "source": [
    "df.area_i = df.area_i.astype(int)\n",
    "df.area_j = df.area_j.astype(int)"
   ]
  },
  {
   "cell_type": "code",
   "execution_count": 26,
   "metadata": {},
   "outputs": [],
   "source": [
    "times_matrix, distance_matrix, corresponance_matrix = np.zeros((size, size)), np.zeros((size, size)), np.zeros((size, size))"
   ]
  },
  {
   "cell_type": "code",
   "execution_count": 27,
   "metadata": {},
   "outputs": [],
   "source": [
    "for i in df.index:\n",
    "    \n",
    "    area_i, area_j, live_work_ij, time_ij, dist_ij = df.loc[i]\n",
    "    area_i, area_j = int(area_i) - 1, int(area_j) - 1\n",
    "    \n",
    "    times_matrix[area_i, area_j] = time_ij\n",
    "    distance_matrix[area_i, area_j] = dist_ij\n",
    "    corresponance_matrix[area_i, area_j] = live_work_ij"
   ]
  },
  {
   "cell_type": "code",
   "execution_count": 28,
   "metadata": {},
   "outputs": [],
   "source": [
    "L = 1\n",
    "L_new = None\n",
    "a = 0\n",
    "# size = 10\n",
    "beta = 1\n",
    "\n",
    "# T = np.matrix([np.random.uniform(size=size) for _ in range(size)])\n",
    "# T /= T.sum(axis=1)\n",
    "\n",
    "T = 2 * np.matrix(times_matrix ** 4)\n",
    "T /= T.sum(axis=1)\n",
    "\n",
    "# l, w = np.random.uniform(0, 1, size), np.random.uniform(0, 1, size)  \n",
    "l, w = df.groupby('area_i')['live_i_work_j'].sum(), df.groupby('area_j')['live_i_work_j'].sum()\n",
    "l /= l.sum()\n",
    "w /= w.sum()\n",
    "\n",
    "# lambdas_l, lambdas_w = np.zeros(size), np.zeros(size)\n",
    "#x_new = np.random.uniform(size=2 * size)#np.concatenate((np.zeros(size), np.ones(size))) \n",
    "#y = np.random.uniform(size=2 * size)#np.concatenate((np.zeros(size), np.ones(size))) \n",
    "#v_new = np.random.uniform(size=2 * size)#np.concatenate((np.zeros(size), np.ones(size)))\n",
    "x_new = np.ones(2 * size)#np.concatenate((np.zeros(size), np.ones(size))) \n",
    "y = np.ones(2 * size)#np.concatenate((np.zeros(size), np.ones(size))) \n",
    "v_new = np.ones(2 * size)#np.concatenate((np.zeros(size), np.ones(size)))\n",
    "# x, y, v = 15* np.ones(2 * size), np.ones(2 * size), 15 *np.ones(2 * size)\n",
    "\n",
    "d_hat = 1"
   ]
  },
  {
   "cell_type": "code",
   "execution_count": 29,
   "metadata": {},
   "outputs": [],
   "source": [
    "eps_f = 0.001"
   ]
  },
  {
   "cell_type": "code",
   "execution_count": null,
   "metadata": {},
   "outputs": [],
   "source": []
  },
  {
   "cell_type": "code",
   "execution_count": null,
   "metadata": {},
   "outputs": [],
   "source": [
    "while True:\n",
    "    if L_new is not None:\n",
    "        L = L_new\n",
    "        \n",
    "    L_new = L / 2\n",
    "    \n",
    "    x = x_new\n",
    "    v = v_new\n",
    "    while True:\n",
    "    \n",
    "        a_new = 1 / (2 * L_new) + np.sqrt(1 / (4 * L_new ** 2) + a ** 2 * L / L_new)\n",
    "        tau = 1 / (a_new * L_new)\n",
    "        \n",
    "        y = tau * v + (1 - tau) * x\n",
    "        print(y)\n",
    "        lambdas_l, lambdas_w = y[:size].copy(), y[size:].copy()\n",
    "\n",
    "        B = np.exp(-beta * T + lambdas_l + lambdas_w)\n",
    "#         print(B)\n",
    "        grad_phi_1, grad_phi_2, grad_phi_value = grad_phi(y[:size], y[size:], B)\n",
    "        \n",
    "        if np.linalg.norm(grad_phi_1) >= np.linalg.norm(grad_phi_2):\n",
    "            lambdas_l_new = (lambdas_l + np.log(l) - np.log(np.dot(B, np.ones(size))).A1).values\n",
    "            lambdas_w_new = lambdas_w.copy() \n",
    "            print(1)\n",
    "        else:\n",
    "            lambdas_l_new = lambdas_l.copy()\n",
    "            lambdas_w_new = (lambdas_w + np.log(w) - np.log(np.dot(B.T, np.ones(size))).A1).values\n",
    "            print(2)\n",
    "        x_new = np.concatenate((lambdas_l_new, lambdas_w_new))\n",
    "   \n",
    "        v_new = v - a_new * grad_phi_value\n",
    "        \n",
    "        B_x_new = np.exp(-beta * T + x_new[:size] + x_new[size:])\n",
    "        B_x = np.exp(-beta * T + x[:size] + x[size:])\n",
    "        \n",
    "        print(phi(x_new, l, w, B_x_new), phi(x, l, w, B_x), phi(y, l, w, B))\n",
    "#         print(phi(x_new, l, w, B_x_new) - phi(y, l, w, B) - np.linalg.norm(grad_phi_value) ** 2 / (2 * L_new))\n",
    "\n",
    "        if phi(x_new, l, w, B_x_new) <= phi(y, l, w, B) - np.linalg.norm(grad_phi_value) ** 2 / (2 * L_new):\n",
    "            d = B / np.dot(np.dot(np.ones(size).T, B), np.ones(size))\n",
    "#             print(np.dot(np.dot(np.ones(size).T, B), np.ones(size)))\n",
    "            d_hat_new = (a_new * d + L * a ** 2 * d_hat) / (L_new * a_new ** 2)\n",
    "            break\n",
    "        \n",
    "        L_new *= 2\n",
    "        print('L_new', L_new)\n",
    "        \n",
    "        \n",
    "    print(abs(f(d_hat_new, T, beta) + phi(x_new, l, w, B_x_new)))\n",
    "    print(np.linalg.norm(np.dot(d_hat_new.T, np.ones(size).T).A1 - l), np.linalg.norm(np.dot(d_hat_new, np.ones(size).T).A1 - w))\n",
    "    \n",
    "    if abs(f(d_hat_new, T, beta) + phi(x_new, l, w, B)) < eps_f:\n",
    "        break\n",
    "    \n",
    "    d_hat = d_hat_new.copy()\n"
   ]
  },
  {
   "cell_type": "code",
   "execution_count": null,
   "metadata": {
    "scrolled": true
   },
   "outputs": [],
   "source": [
    "np.dot(d_hat_new.T, np.ones(size)).A1 - l"
   ]
  },
  {
   "cell_type": "code",
   "execution_count": null,
   "metadata": {},
   "outputs": [],
   "source": [
    "number_of_people = df.groupby('area_j')['live_i_work_j'].sum().sum()"
   ]
  },
  {
   "cell_type": "code",
   "execution_count": null,
   "metadata": {},
   "outputs": [],
   "source": [
    "d_restored = d_hat_new * number_of_people"
   ]
  },
  {
   "cell_type": "code",
   "execution_count": null,
   "metadata": {},
   "outputs": [],
   "source": [
    "np.sum((d_restored - corresponance_matrix) ** 2) / size ** 2"
   ]
  },
  {
   "cell_type": "code",
   "execution_count": null,
   "metadata": {},
   "outputs": [],
   "source": [
    "np.sum((d_restored - corresponance_matrix) ** 2) / size ** 2"
   ]
  }
 ],
 "metadata": {
  "kernelspec": {
   "display_name": "Python 3",
   "language": "python",
   "name": "python3"
  },
  "language_info": {
   "codemirror_mode": {
    "name": "ipython",
    "version": 3
   },
   "file_extension": ".py",
   "mimetype": "text/x-python",
   "name": "python",
   "nbconvert_exporter": "python",
   "pygments_lexer": "ipython3",
   "version": "3.6.8"
  }
 },
 "nbformat": 4,
 "nbformat_minor": 2
}
